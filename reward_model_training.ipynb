{
 "cells": [
  {
   "cell_type": "code",
   "execution_count": 1,
   "metadata": {},
   "outputs": [
    {
     "name": "stderr",
     "output_type": "stream",
     "text": [
      "/home/garuda/shama/hcml/Reward_Alignment/lib/python3.10/site-packages/tqdm/auto.py:21: TqdmWarning: IProgress not found. Please update jupyter and ipywidgets. See https://ipywidgets.readthedocs.io/en/stable/user_install.html\n",
      "  from .autonotebook import tqdm as notebook_tqdm\n"
     ]
    }
   ],
   "source": [
    "from train3_rm import training_rm"
   ]
  },
  {
   "cell_type": "code",
   "execution_count": 5,
   "metadata": {},
   "outputs": [
    {
     "data": {
      "text/plain": [
       "0"
      ]
     },
     "execution_count": 5,
     "metadata": {},
     "output_type": "execute_result"
    }
   ],
   "source": [
    "import gc\n",
    "gc.collect()"
   ]
  },
  {
   "cell_type": "code",
   "execution_count": 2,
   "metadata": {},
   "outputs": [
    {
     "name": "stdout",
     "output_type": "stream",
     "text": [
      "Loading RM Filtered split\n",
      "Loading RM Filtered split\n",
      "Loaded training and testing datasets\n"
     ]
    },
    {
     "name": "stderr",
     "output_type": "stream",
     "text": [
      "batch loss 0.702: 100%|██████████| 2000/2000 [04:19<00:00,  7.72it/s]\n",
      "/home/garuda/shama/hcml/Reward_Alignment/lib/python3.10/site-packages/torch/_inductor/compile_fx.py:124: UserWarning: TensorFloat32 tensor cores for float32 matrix multiplication available but not enabled. Consider setting `torch.set_float32_matmul_precision('high')` for better performance.\n",
      "  warnings.warn(\n"
     ]
    },
    {
     "name": "stdout",
     "output_type": "stream",
     "text": [
      "Epoch: 1, Test Loss: 0.6830803751945496, Acc: 0.5399999618530273\n",
      "Training complete. Model saved as FRFT_Iter1_Part1_RM\n"
     ]
    }
   ],
   "source": [
    "training_rm('sft_sft_0_202404201349_step20000-001.pt', 'FRFT_Iter1_Part1_RM', 'frft_part1_train.pkl', 'frft_part1_test.pkl', batch_size=1)"
   ]
  },
  {
   "cell_type": "code",
   "execution_count": 2,
   "metadata": {},
   "outputs": [
    {
     "name": "stdout",
     "output_type": "stream",
     "text": [
      "Loading RM Filtered split\n",
      "Loading RM Filtered split\n",
      "Loaded training and testing datasets\n"
     ]
    },
    {
     "name": "stderr",
     "output_type": "stream",
     "text": [
      "batch loss 0.516: 100%|██████████| 2000/2000 [04:17<00:00,  7.77it/s]\n",
      "/home/garuda/shama/hcml/Reward_Alignment/lib/python3.10/site-packages/torch/_inductor/compile_fx.py:124: UserWarning: TensorFloat32 tensor cores for float32 matrix multiplication available but not enabled. Consider setting `torch.set_float32_matmul_precision('high')` for better performance.\n",
      "  warnings.warn(\n"
     ]
    },
    {
     "name": "stdout",
     "output_type": "stream",
     "text": [
      "Epoch: 1, Test Loss: 0.5748032331466675, Acc: 0.6899999976158142\n",
      "Training complete. Model saved as FRFT_Iter1_Part3_RM\n"
     ]
    }
   ],
   "source": [
    "training_rm('sft_sft_0_202404201349_step20000-001.pt', 'FRFT_Iter1_Part3_RM', 'frft_part3_train.pkl', 'frft_part3_test.pkl', batch_size=1)"
   ]
  },
  {
   "cell_type": "code",
   "execution_count": 2,
   "metadata": {},
   "outputs": [
    {
     "name": "stdout",
     "output_type": "stream",
     "text": [
      "Loading RM Filtered split\n",
      "Loading RM Filtered split\n",
      "Loaded training and testing datasets\n"
     ]
    },
    {
     "name": "stderr",
     "output_type": "stream",
     "text": [
      "batch loss 0.168: 100%|██████████| 2000/2000 [04:17<00:00,  7.77it/s]\n",
      "/home/garuda/shama/hcml/Reward_Alignment/lib/python3.10/site-packages/torch/_inductor/compile_fx.py:124: UserWarning: TensorFloat32 tensor cores for float32 matrix multiplication available but not enabled. Consider setting `torch.set_float32_matmul_precision('high')` for better performance.\n",
      "  warnings.warn(\n"
     ]
    },
    {
     "name": "stdout",
     "output_type": "stream",
     "text": [
      "Epoch: 1, Test Loss: 0.19620180130004883, Acc: 0.75\n",
      "Training complete. Model saved as FRFT_Iter1_Part4_RM\n"
     ]
    }
   ],
   "source": [
    "training_rm('sft_sft_0_202404201349_step20000-001.pt', 'FRFT_Iter1_Part4_RM', 'frft_part4_train.pkl', 'frft_part4_test.pkl', batch_size=1)"
   ]
  },
  {
   "cell_type": "code",
   "execution_count": null,
   "metadata": {},
   "outputs": [],
   "source": []
  }
 ],
 "metadata": {
  "kernelspec": {
   "display_name": "Reward_Alignment",
   "language": "python",
   "name": "python3"
  },
  "language_info": {
   "codemirror_mode": {
    "name": "ipython",
    "version": 3
   },
   "file_extension": ".py",
   "mimetype": "text/x-python",
   "name": "python",
   "nbconvert_exporter": "python",
   "pygments_lexer": "ipython3",
   "version": "3.10.12"
  }
 },
 "nbformat": 4,
 "nbformat_minor": 2
}
